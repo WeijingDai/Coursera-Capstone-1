{
 "cells": [
  {
   "cell_type": "markdown",
   "metadata": {},
   "source": [
    "# Rental price vs. Neighborhoods\n",
    "## Coursera Data Science Capstone"
   ]
  },
  {
   "cell_type": "markdown",
   "metadata": {},
   "source": [
    "<h1> Introduction "
   ]
  },
  {
   "cell_type": "markdown",
   "metadata": {},
   "source": [
    "<b >Renting a place in a city is always the first issue faced by employees, students and tourists new to the city. Finding a right place matching living requirement and financial budget is the common goal for this issue. Here, the Neighborhoods of New York City will be explored in this scope by employing data science techniques and methods. \n",
    "    \n",
    "<b >In this capstone project, the composition of nearby venues in a neighborhood is used as the features and the relationship between these neighborhood features and rental price will be investigated. How different types of venues influence the price will be studied. To accompolish this analysis, venue information will be collected and processed as indepedent variables, while the rental price will be gathered and considered as a dependent variable. A fitted correlation will be generated as a guide to estimate the rental price. "
   ]
  },
  {
   "cell_type": "markdown",
   "metadata": {},
   "source": [
    "<h1> Data"
   ]
  },
  {
   "cell_type": "markdown",
   "metadata": {},
   "source": [
    "<b >Two sets of data are necessary to conduct this project, the rental price and the neighborhood venues. The neighborhood venues can be obtained by implementing the FourSquare API, which has been demonstrated in the previous practice. The rental price will be obtained from the the streeteasy website by leveraging the Python scraping tool BeautifulSoup.\n",
    "    \n",
    "* Venues will be categorised into food/drink, shopping, recreation, transport, commerce and office groups.\n",
    "* The composition will be quantitatively calculated to represent the features of neighborhoods.\n",
    "* The statistical characteristics of the rental prices of corresponding neighborhoods will be correlated to the features."
   ]
  },
  {
   "cell_type": "code",
   "execution_count": null,
   "metadata": {},
   "outputs": [],
   "source": []
  }
 ],
 "metadata": {
  "kernelspec": {
   "display_name": "Python 3",
   "language": "python",
   "name": "python3"
  },
  "language_info": {
   "codemirror_mode": {
    "name": "ipython",
    "version": 3
   },
   "file_extension": ".py",
   "mimetype": "text/x-python",
   "name": "python",
   "nbconvert_exporter": "python",
   "pygments_lexer": "ipython3",
   "version": "3.6.8"
  }
 },
 "nbformat": 4,
 "nbformat_minor": 2
}
